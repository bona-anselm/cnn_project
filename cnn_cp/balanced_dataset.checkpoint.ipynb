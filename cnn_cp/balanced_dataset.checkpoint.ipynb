{
 "cells": [
  {
   "cell_type": "code",
   "execution_count": 1,
   "id": "9d5a8028",
   "metadata": {},
   "outputs": [
    {
     "name": "stdout",
     "output_type": "stream",
     "text": [
      "✅ Saved 984 rows to 'balanced_creditcard.csv'\n"
     ]
    }
   ],
   "source": [
    "import pandas as pd\n",
    "\n",
    "# Load the original dataset\n",
    "df = pd.read_csv(\"creditcard.csv\")\n",
    "\n",
    "# Separate fraud and non-fraud\n",
    "fraud_df = df[df['Class'] == 1]\n",
    "non_fraud_df = df[df['Class'] == 0]\n",
    "\n",
    "# Randomly sample non-fraudulent transactions to match the number of frauds\n",
    "non_fraud_sample = non_fraud_df.sample(n=len(fraud_df), random_state=42)\n",
    "\n",
    "# Combine the two to form a balanced dataset\n",
    "balanced_df = pd.concat([fraud_df, non_fraud_sample])\n",
    "\n",
    "# Optional: Shuffle the combined dataset\n",
    "balanced_df = balanced_df.sample(frac=1, random_state=42).reset_index(drop=True)\n",
    "\n",
    "# Save to CSV\n",
    "balanced_df.to_csv(\"balanced_creditcard.csv\", index=False)\n",
    "\n",
    "print(f\"✅ Saved {len(balanced_df)} rows to 'balanced_creditcard.csv'\")\n"
   ]
  }
 ],
 "metadata": {
  "kernelspec": {
   "display_name": "cnn_env",
   "language": "python",
   "name": "python3"
  },
  "language_info": {
   "codemirror_mode": {
    "name": "ipython",
    "version": 3
   },
   "file_extension": ".py",
   "mimetype": "text/x-python",
   "name": "python",
   "nbconvert_exporter": "python",
   "pygments_lexer": "ipython3",
   "version": "3.10.12"
  }
 },
 "nbformat": 4,
 "nbformat_minor": 5
}
