{
 "cells": [
  {
   "cell_type": "code",
   "execution_count": null,
   "id": "539529d0-4db6-4124-9071-984dff2ea776",
   "metadata": {},
   "outputs": [],
   "source": []
  }
 ],
 "metadata": {
  "kernelspec": {
   "display_name": "Python 3 (ipykernel)",
   "language": "python",
   "name": "python3"
  }
 },
 "nbformat": 4,
 "nbformat_minor": 5
}
